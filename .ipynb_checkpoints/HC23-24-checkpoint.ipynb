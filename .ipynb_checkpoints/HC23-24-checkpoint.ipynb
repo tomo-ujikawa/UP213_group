{
 "cells": [
  {
   "cell_type": "code",
   "execution_count": 1,
   "id": "1d25ffc9-3ad5-4d26-91aa-e44283413d81",
   "metadata": {},
   "outputs": [],
   "source": [
    "# Safe Parking Need Analysis"
   ]
  },
  {
   "cell_type": "markdown",
   "id": "7e55401e-cc87-4a58-b6a5-2fd433da7e72",
   "metadata": {},
   "source": [
    "*UP213 Urban Data Science (2025 Spring) Group Project*"
   ]
  },
  {
   "cell_type": "markdown",
   "id": "a501a9cf-d73e-4d05-b18c-a527feac7124",
   "metadata": {},
   "source": [
    "#### **Group Members:** Simon Han, Tomohiro Ujikawa  "
   ]
  },
  {
   "cell_type": "markdown",
   "id": "7e283c19-2e5c-4096-9a11-18b58e0c32dc",
   "metadata": {},
   "source": [
    "## Objective \n",
    "To identify where vehicle homelessness is concentrated in Los Angeles, and to assess underused parking garages that could help meet the need for safe overnight parking.\n",
    "\n",
    "## Background  \n",
    "Vehicle residency is on the rise among working-class individuals and families as housing costs continue to outpace wages in LA. While permanent housing remains the long-term goal, the shortage of affordable units and the time and cost required to build them has created an urgent need for **immediate, interim solutions**.\n",
    "\n",
    "Safe parking programs, which provide a legal place to sleep in one’s vehicle along with access to restrooms and services, are one such solution. Many city-owned parking garages in LA sit largely empty during overnight hours and could be repurposed to support these programs. This project analyzes both the **concentration of vehicle homelessness** and the **potential of underused city-owned garages** to serve as safe parking sites.\n",
    "\n",
    "## Key Questions  \n",
    "- Where is **vehicle homelessness concentrated** in Los Angeles?  \n",
    "- Which **underused parking garages** could be matched with areas of high need for safe parking?\n",
    "\n",
    "#### **Dataset:**\n",
    "Safe Parking **Needs**: \n",
    "- LAHSA Homeless Count: vehicle dwelling counts by tract\n",
    "- ACS: poverty, rent burden, vehicle ownership, housing overcrowding\n",
    "\n",
    "Potential **Supply**:  \n",
    "- ParkMe (real-time occupancy data for Santa Monica)  \n",
    "- City of LA Parking Garage Locations and Characteristics  \n",
    "- Supplemental: Zoning, transit access, and service proximity (for refining site viability)\n",
    "\n",
    "#### **Method:**\n",
    "- **Data Scraping** for real-time or web-only garage data \n",
    "- **Spatial Joins** to overlay homelessness data with garage locations\n",
    "- **Machine Learning** to predict unmet safe parking need using ACS features \n",
    "- **Overlay Analysis** to identify garage locations that could meet the predicted need"
   ]
  },
  {
   "cell_type": "markdown",
   "id": "9f90eda2-b3d6-4998-bec0-adbe1ca92bf2",
   "metadata": {},
   "source": [
    "## Prep Work"
   ]
  },
  {
   "cell_type": "markdown",
   "id": "b48a06d8-9d67-4049-96a5-b6bdf10ffeb3",
   "metadata": {},
   "source": [
    "### Import Libraries"
   ]
  },
  {
   "cell_type": "code",
   "execution_count": 2,
   "id": "e91e9562-b527-4e4e-acd6-d2d1ee451247",
   "metadata": {},
   "outputs": [],
   "source": [
    "import requests\n",
    "import pandas as pd\n",
    "import geopandas as gpd\n",
    "import os"
   ]
  },
  {
   "cell_type": "markdown",
   "id": "e910a5b7-ea58-4eae-939b-655b77c53163",
   "metadata": {},
   "source": [
    "### Look Up Table: Homeless Count Configuration By Year"
   ]
  },
  {
   "cell_type": "code",
   "execution_count": 3,
   "id": "eb12eb6a-d7dc-40a5-8d08-36745fa1f895",
   "metadata": {},
   "outputs": [],
   "source": [
    "lut = {\n",
    "    2016: {\"filename\": \"hc16-data-by-census-tract.xlsx\", \"sheet\": \"Counts_by_Tract\", \"tiger_year\": 2010},\n",
    "    2017: {\"filename\": \"hc17-data-by-census-tract.xlsx\", \"sheet\": \"Counts_by_Tract\", \"tiger_year\": 2010},\n",
    "    2018: {\"filename\": \"hc18-data-by-census-tract.xlsx\", \"sheet\": \"Counts_by_Tract\", \"tiger_year\": 2010},\n",
    "    2019: {\"filename\": \"hc19-data-by-census-tract.xlsx\", \"sheet\": \"Counts_by_Tract\", \"tiger_year\": 2010},\n",
    "    2020: {\"filename\": \"hc20-data-by-census-tract.xlsx\", \"sheet\": \"Counts_by_Tract\", \"tiger_year\": 2010},\n",
    "    2022: {\"filename\": \"hc22-data-by-census-tract-split.xlsx\", \"sheet\": \"Counts_by_TractSplit\", \"tiger_year\": 2010},\n",
    "    2023: {\"filename\": \"hc23-data-by-census-tract-split.xlsx\", \"sheet\": \"Counts_by_TractSplit\", \"tiger_year\": 2020},\n",
    "    2024: {\"filename\": \"hc24-data-by-census-tract-split.xlsx\", \"sheet\": \"Counts_by_TractSplit\", \"tiger_year\": 2020}\n",
    "}\n"
   ]
  },
  {
   "cell_type": "markdown",
   "id": "25746025-c2e6-41b2-b373-c3d0b0cda5d6",
   "metadata": {},
   "source": [
    "## Clean ACS, LAHSA HC, TIGER/Line Data"
   ]
  },
  {
   "cell_type": "markdown",
   "id": "fda98b5a-c722-4a84-88fd-7f71a1578b1d",
   "metadata": {},
   "source": [
    "### Function: Fetch ACS Data"
   ]
  },
  {
   "cell_type": "code",
   "execution_count": 4,
   "id": "baddf355-c471-4de7-8872-55f84c1aa3ee",
   "metadata": {},
   "outputs": [],
   "source": [
    "def fetch_acs_data(year):\n",
    "    # Download variables from Census API\n",
    "    url = f\"https://api.census.gov/data/{year}/acs/acs5\"\n",
    "    variables = [\n",
    "        \"B25044_003E\", \"B25044_001E\",  # No vehicle, total households\n",
    "        \"B17001_002E\", \"B17001_001E\",  # Poverty count, poverty universe\n",
    "        \"B19013_001E\",                 # Median household income\n",
    "        \"B25070_007E\", \"B25070_008E\", \"B25070_009E\", \"B25070_010E\", \"B25070_001E\",  # Rent burden\n",
    "        \"B25010_001E\",                 # Average household size\n",
    "        \"B25003_002E\", \"B25003_003E\",  # Owner and renter households\n",
    "        \"B08141_002E\", \"B08141_001E\"   # Drive-alone commuters, total commuters\n",
    "    ]\n",
    "    params = {\n",
    "        \"get\": \",\".join([\"NAME\"] + variables),\n",
    "        \"for\": \"tract:*\",\n",
    "        \"in\": \"state:06 county:037\",\n",
    "        \"key\": \"84436d805d1d82c74284a712b6b882a361770310\"\n",
    "    }\n",
    "    # Build API request\n",
    "    r = requests.get(url, params=params)\n",
    "    if r.status_code != 200:\n",
    "        print(f\"Request failed for year {year}: {r.status_code}\")\n",
    "        return pd.DataFrame()\n",
    "    # Build dataframe\n",
    "    data = r.json()\n",
    "    df = pd.DataFrame(data[1:], columns=data[0])\n",
    "    for v in variables:\n",
    "        df[v] = pd.to_numeric(df[v], errors=\"coerce\")\n",
    "    return df"
   ]
  },
  {
   "cell_type": "markdown",
   "id": "10529ebd-e69d-4352-8f48-42e8874fc71f",
   "metadata": {},
   "source": [
    "### Function: Load Homeless Count from Excel By Year \n"
   ]
  },
  {
   "cell_type": "code",
   "execution_count": 5,
   "id": "fbd3881b-7ba3-4a01-b204-c8db986dcd4c",
   "metadata": {},
   "outputs": [],
   "source": [
    "def load_hc_data(year, base_path=\"/Users/admin/Documents/GitHub/UP213_group/Data/lahsa_hc_library\"):\n",
    "    config = lut.get(year)\n",
    "    if config is None:\n",
    "        print(f\"No config found in lut for {year}\")\n",
    "        return pd.DataFrame()\n",
    "\n",
    "    file_path = os.path.join(base_path, config[\"filename\"])\n",
    "    try:\n",
    "        df = pd.read_excel(file_path, sheet_name=config[\"sheet\"])\n",
    "    except Exception as e:\n",
    "        print(f\"Error loading file for {year}: {e}\")\n",
    "        return pd.DataFrame()\n",
    "\n",
    "    tract_col = \"tract\" if \"tract\" in df.columns else \"tract_split\"\n",
    "    df[\"tract\"] = df[tract_col].astype(str).str.zfill(6)\n",
    "    grouped = df.groupby(\"tract\").sum(numeric_only=True).reset_index()\n",
    "    return grouped\n"
   ]
  },
  {
   "cell_type": "markdown",
   "id": "d5d50b1c-9628-49ba-b928-2623bf84ae69",
   "metadata": {},
   "source": [
    "### Function: Load TIGER/Line Shapefile By Year\n"
   ]
  },
  {
   "cell_type": "code",
   "execution_count": 29,
   "id": "dfba977c-8016-451f-bf07-71697e1e4152",
   "metadata": {},
   "outputs": [
    {
     "data": {
      "text/plain": [
       "True"
      ]
     },
     "execution_count": 29,
     "metadata": {},
     "output_type": "execute_result"
    }
   ],
   "source": [
    "os.path.exists(\"/Users/admin/Documents/GitHub/UP213_group/Data/tl_shp_library/tl_2020_06_tract\")\n",
    "# os.listdir(\"/Users/admin/Documents/GitHub/UP213_group/Data/tl_shp_library\")"
   ]
  },
  {
   "cell_type": "code",
   "execution_count": 32,
   "id": "3f62f891-5fe3-4ba4-a928-c95d3afae7d7",
   "metadata": {},
   "outputs": [
    {
     "name": "stdout",
     "output_type": "stream",
     "text": [
      "                                                   NAME  B25044_003E  \\\n",
      "0     Census Tract 1011.10; Los Angeles County; Cali...           59   \n",
      "1     Census Tract 1011.22; Los Angeles County; Cali...            0   \n",
      "2     Census Tract 1012.20; Los Angeles County; Cali...           12   \n",
      "3     Census Tract 1012.21; Los Angeles County; Cali...           13   \n",
      "4     Census Tract 1012.22; Los Angeles County; Cali...            0   \n",
      "...                                                 ...          ...   \n",
      "2493  Census Tract 9800.38; Los Angeles County; Cali...            0   \n",
      "2494  Census Tract 9800.39; Los Angeles County; Cali...            0   \n",
      "2495  Census Tract 9901; Los Angeles County; California            0   \n",
      "2496  Census Tract 9902; Los Angeles County; California            0   \n",
      "2497  Census Tract 9903; Los Angeles County; California            0   \n",
      "\n",
      "      B25044_001E  B17001_002E  B17001_001E  B19013_001E  B25070_007E  \\\n",
      "0            1558          476         4068        84091           57   \n",
      "1            1407          266         4166        99583           13   \n",
      "2            1357          610         3434        69676           92   \n",
      "3            1483          555         3881        53798           71   \n",
      "4             948          356         2564        45662           11   \n",
      "...           ...          ...          ...          ...          ...   \n",
      "2493            0            0            0   -666666666            0   \n",
      "2494            0            0            0   -666666666            0   \n",
      "2495            0            0            0   -666666666            0   \n",
      "2496            0            0            0   -666666666            0   \n",
      "2497            0            0            0   -666666666            0   \n",
      "\n",
      "      B25070_008E  B25070_009E  B25070_010E  B25070_001E   B25010_001E  \\\n",
      "0              15          111          216          760  2.600000e+00   \n",
      "1             102            6           96          311  2.980000e+00   \n",
      "2              51           32          154          761  2.530000e+00   \n",
      "3              26          237          459         1154  2.590000e+00   \n",
      "4              13           43          416          873  2.700000e+00   \n",
      "...           ...          ...          ...          ...           ...   \n",
      "2493            0            0            0            0 -6.666667e+08   \n",
      "2494            0            0            0            0 -6.666667e+08   \n",
      "2495            0            0            0            0 -6.666667e+08   \n",
      "2496            0            0            0            0 -6.666667e+08   \n",
      "2497            0            0            0            0 -6.666667e+08   \n",
      "\n",
      "      B25003_002E  B25003_003E  B08141_002E  B08141_001E state county   tract  \n",
      "0             798          760          102         2106    06    037  101110  \n",
      "1            1096          311            0         1991    06    037  101122  \n",
      "2             596          761            0         1622    06    037  101220  \n",
      "3             329         1154          102         1800    06    037  101221  \n",
      "4              75          873           37         1131    06    037  101222  \n",
      "...           ...          ...          ...          ...   ...    ...     ...  \n",
      "2493            0            0            0            0    06    037  980038  \n",
      "2494            0            0            0            0    06    037  980039  \n",
      "2495            0            0            0            0    06    037  990100  \n",
      "2496            0            0            0            0    06    037  990200  \n",
      "2497            0            0            0            0    06    037  990300  \n",
      "\n",
      "[2498 rows x 19 columns]\n",
      "           tract  Year  LACity  SPA  sd  cd  ca_ssd  ca_sad  us_cd  \\\n",
      "0         101110  2023       1    2   5   7      20      44     30   \n",
      "1         101122  2023       1    2   5   7      20      44     30   \n",
      "2         101220  2023       1    2   5   7      20      44     30   \n",
      "3         101221  2023       1    2   5   7      20      44     30   \n",
      "4         101222  2023       1    2   5   7      20      44     30   \n",
      "...          ...   ...     ...  ...  ..  ..     ...     ...    ...   \n",
      "3188      980037  2023       2    8   2   0      35      69     44   \n",
      "3189   980038_v1  2023       2    5   2   0      28      55     37   \n",
      "3190   980038_v2  2023       2    6   2   0      28      55     37   \n",
      "3191  980039_xw1  2023       1    2   5   2      27      51     30   \n",
      "3192  980039_xw2  2023       2    2   5   0      27      51     30   \n",
      "\n",
      "      totStreetSingAdult  ...  totSHAdultFamHH  totSHAdultFamMem  \\\n",
      "0                      0  ...                0                 0   \n",
      "1                      0  ...                0                 0   \n",
      "2                      0  ...                0                 0   \n",
      "3                      0  ...                0                 0   \n",
      "4                      3  ...                0                 0   \n",
      "...                  ...  ...              ...               ...   \n",
      "3188                   1  ...                0                 0   \n",
      "3189                   0  ...                0                 0   \n",
      "3190                   5  ...                0                 0   \n",
      "3191                   0  ...                0                 0   \n",
      "3192                   0  ...                0                 0   \n",
      "\n",
      "      totSHYouthSingYouth  totSHYouthFamHH  totSHYouthFamMem  \\\n",
      "0                       0                0                 0   \n",
      "1                       0                0                 0   \n",
      "2                       0                0                 0   \n",
      "3                       0                0                 0   \n",
      "4                       0                0                 0   \n",
      "...                   ...              ...               ...   \n",
      "3188                    0                0                 0   \n",
      "3189                    0                0                 0   \n",
      "3190                    0                0                 0   \n",
      "3191                    0                0                 0   \n",
      "3192                    0                0                 0   \n",
      "\n",
      "      totSHYouthUnaccYouth  totESPeople  totTHPeople  totSHPeople  \\\n",
      "0                        0            0            0            0   \n",
      "1                        0            0            0            0   \n",
      "2                        0            0            0            0   \n",
      "3                        0            0            0            0   \n",
      "4                        0            0            0            0   \n",
      "...                    ...          ...          ...          ...   \n",
      "3188                     0            0            0            0   \n",
      "3189                     0            0            0            0   \n",
      "3190                     0            0            0            0   \n",
      "3191                     0            0            0            0   \n",
      "3192                     0            0            0            0   \n",
      "\n",
      "      totSheltPeople  \n",
      "0                  0  \n",
      "1                  0  \n",
      "2                  0  \n",
      "3                  0  \n",
      "4                  0  \n",
      "...              ...  \n",
      "3188               0  \n",
      "3189               0  \n",
      "3190               0  \n",
      "3191               0  \n",
      "3192               0  \n",
      "\n",
      "[3193 rows x 45 columns]\n"
     ]
    },
    {
     "name": "stderr",
     "output_type": "stream",
     "text": [
      "/opt/anaconda3/lib/python3.11/site-packages/openpyxl/worksheet/header_footer.py:48: UserWarning: Cannot parse header or footer so it will be ignored\n",
      "  warn(\"\"\"Cannot parse header or footer so it will be ignored\"\"\")\n"
     ]
    }
   ],
   "source": [
    "acs_2023 = fetch_acs_data(2023)\n",
    "hc_2023 = load_hc_data(2023)\n",
    "print(acs_2023)\n",
    "print(hc_2023)"
   ]
  },
  {
   "cell_type": "markdown",
   "id": "eb23c79e-f499-4b5a-b579-44ccad4b7baa",
   "metadata": {},
   "source": [
    "### Time to merge everything"
   ]
  },
  {
   "cell_type": "code",
   "execution_count": 27,
   "id": "63ad034e-be64-4063-8775-56596bcaf876",
   "metadata": {},
   "outputs": [
    {
     "name": "stdout",
     "output_type": "stream",
     "text": [
      "Error loading shapefile for 2020: /Users/admin/Documents/GitHub/UP213_group/Data/tl_shp_library/tl_2020_06_tract.shp: No such file or directory\n"
     ]
    },
    {
     "name": "stderr",
     "output_type": "stream",
     "text": [
      "/opt/anaconda3/lib/python3.11/site-packages/openpyxl/worksheet/header_footer.py:48: UserWarning: Cannot parse header or footer so it will be ignored\n",
      "  warn(\"\"\"Cannot parse header or footer so it will be ignored\"\"\")\n"
     ]
    }
   ],
   "source": [
    "# Specify year\n",
    "year = 2023\n",
    "acs = fetch_acs_data(year)\n",
    "hc = load_hc_data(year)\n",
    "\n",
    "# Merge HC with ACS\n",
    "acs[\"tract\"] = acs[\"tract\"].astype(str).str.zfill(6)\n",
    "hc_acs = pd.merge(hc, acs, on=\"tract\", how=\"inner\")\n",
    "\n"
   ]
  },
  {
   "cell_type": "code",
   "execution_count": null,
   "id": "0bf9e883-14dc-4280-83d6-86325c743bea",
   "metadata": {},
   "outputs": [],
   "source": []
  }
 ],
 "metadata": {
  "kernelspec": {
   "display_name": "Python 3 (ipykernel)",
   "language": "python",
   "name": "python3"
  },
  "language_info": {
   "codemirror_mode": {
    "name": "ipython",
    "version": 3
   },
   "file_extension": ".py",
   "mimetype": "text/x-python",
   "name": "python",
   "nbconvert_exporter": "python",
   "pygments_lexer": "ipython3",
   "version": "3.11.7"
  }
 },
 "nbformat": 4,
 "nbformat_minor": 5
}
